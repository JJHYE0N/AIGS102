{
 "cells": [
  {
   "cell_type": "code",
   "execution_count": 2,
   "metadata": {},
   "outputs": [
    {
     "name": "stdout",
     "output_type": "stream",
     "text": [
      "파일 과제\n"
     ]
    }
   ],
   "source": [
    "print(\"파일 과제\")\n",
    "read_file = open(\"score.txt\", \"r\")\n",
    "write_file = open(\"report.txt\", \"w\")\n",
    "\n",
    "while True:\n",
    "    l = read_file.readline().rstrip()\n",
    "    if l == '':\n",
    "           break\n",
    "        \n",
    "    l_list = l.split()\n",
    "    midterm = l_list[1]\n",
    "    finalterm = l_list[2] \n",
    "    um = float(midterm) * 0.4 + float(finalterm) * 0.6\n",
    "    \n",
    "    grade = ''\n",
    "    if um >= 90:\n",
    "        rade = 'A'\n",
    "    elif um >= 80:\n",
    "        rade = 'B'\n",
    "    elif um >= 70:\n",
    "        rade = 'C'\n",
    "    elif um >= 60:\n",
    "        rade = 'D'\n",
    "    else:\n",
    "        rade = 'F'\n",
    "        \n",
    "    data= \"%.1f(%s)\" %(um, rade)\n",
    "    write_file.write(l+\" \"+data+\"\\n\")\n",
    "read_file.close()"
   ]
  },
  {
   "cell_type": "code",
   "execution_count": null,
   "metadata": {},
   "outputs": [],
   "source": []
  }
 ],
 "metadata": {
  "kernelspec": {
   "display_name": "Python 3",
   "language": "python",
   "name": "python3"
  },
  "language_info": {
   "codemirror_mode": {
    "name": "ipython",
    "version": 3
   },
   "file_extension": ".py",
   "mimetype": "text/x-python",
   "name": "python",
   "nbconvert_exporter": "python",
   "pygments_lexer": "ipython3",
   "version": "3.8.5"
  }
 },
 "nbformat": 4,
 "nbformat_minor": 4
}
